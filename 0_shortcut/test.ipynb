{
 "cells": [
  {
   "cell_type": "code",
   "execution_count": null,
   "metadata": {},
   "outputs": [],
   "source": [
    "from datetime import datetime, timedelta\n",
    "\n",
    "# Start date is the first day of 2023\n",
    "start_date = datetime(2023, 1, 1)\n",
    "\n",
    "# End date is the last day of 2023\n",
    "end_date = datetime(2023, 12, 31)\n",
    "\n",
    "# Initialize the current date to start date\n",
    "current_date = start_date\n",
    "\n",
    "# Loop through the year\n",
    "while current_date <= end_date:\n",
    "    # Determine if the current day is a weekend\n",
    "    is_weekend = \"Weekend\" if current_date.weekday() >= 5 else \"Weekday\"\n",
    "    \n",
    "    # Print current date, the weekday name, and whether it's a weekend\n",
    "    print(f\"{current_date.strftime('%Y-%m-%d')} - {current_date.strftime('%A')} - {is_weekend}\")\n",
    "    \n",
    "    current_date += timedelta(days=1)  # Move to the next day\n"
   ]
  },
  {
   "cell_type": "code",
   "execution_count": null,
   "metadata": {},
   "outputs": [],
   "source": [
    "[[0, 1, 0, 1, 1, 0, 1, 1, 1, 1, 1, 1],\n",
    " [0, 0, 0, 1, 0, 0, 0, 1, 1, 0, 1, 0], \n",
    " [0, 0, 0, 0, 0, 0, 0, 1, 0, 0, 0, 0]]"
   ]
  },
  {
   "cell_type": "code",
   "execution_count": null,
   "metadata": {},
   "outputs": [],
   "source": [
    "import heapq\n",
    "lst=[100,2,3,4,5,6,7,8,9,10]\n",
    "print(heapq.heapify(lst))\n",
    "print(lst)"
   ]
  },
  {
   "cell_type": "code",
   "execution_count": null,
   "metadata": {},
   "outputs": [],
   "source": [
    "import heapq\n",
    "\n",
    "def solution(jobs):\n",
    "    answer, now, i = 0, 0, 0\n",
    "    start = -1\n",
    "    heap = []\n",
    "    # [[0, 3], [1, 9], [2, 6]]\n",
    "    while i < len(jobs):  # 현재 시점에서 처리할 수 있는 작업을 heap에 저장\n",
    "        for j in jobs:\n",
    "            if start < j[0] <= now:\n",
    "                heapq.heappush(heap, [j[1], j[0]])\n",
    "        if len(heap) > 0:  # 처리할 작업이 있는 경우\n",
    "            cur = heapq.heappop(heap)\n",
    "            start = now\n",
    "            now += cur[0]\n",
    "            answer += now - cur[1]  # 작업 요청시간부터 종료시간까지의 시간 계산\n",
    "            i += 1\n",
    "        else:  # 처리할 작업이 없는 경우 다음 시간을 넘어감\n",
    "            now += 1\n",
    "\n",
    "    return answer // len(jobs)"
   ]
  },
  {
   "cell_type": "code",
   "execution_count": null,
   "metadata": {},
   "outputs": [],
   "source": [
    "a=[1,2,3,4,5,6,7,8,9,10]\n",
    "b=a[:3]\n",
    "a=a[3:]\n",
    "print(a)\n",
    "print(b)"
   ]
  },
  {
   "cell_type": "code",
   "execution_count": null,
   "metadata": {},
   "outputs": [],
   "source": [
    "import heapq\n",
    "\n",
    "def dijkstra(graph, start):\n",
    "    # 시작 정점에서 다른 정점까지의 거리를 저장하는 딕셔너리\n",
    "    distances = {vertex: float('infinity') for vertex in graph}\n",
    "    distances[start] = 0\n",
    "    \n",
    "    # 시작 정점부터의 거리를 기준으로 우선순위 큐를 유지\n",
    "    priority_queue = [(0, start)]\n",
    "    \n",
    "    while priority_queue:\n",
    "        current_distance, current_vertex = heapq.heappop(priority_queue)\n",
    "        \n",
    "        # 현재 정점까지의 거리가 더 길면 스킵\n",
    "        if current_distance > distances[current_vertex]:\n",
    "            continue\n",
    "        \n",
    "        # 현재 정점과 연결된 정점들을 순회\n",
    "        for neighbor, weight in graph[current_vertex].items():\n",
    "            distance = current_distance + weight\n",
    "            # 현재 정점을 통해 이웃에 도달하는 거리가 더 짧은 경우 업데이트\n",
    "            if distance < distances[neighbor]:\n",
    "                distances[neighbor] = distance\n",
    "                heapq.heappush(priority_queue, (distance, neighbor))\n",
    "    \n",
    "    return distances\n",
    "\n",
    "# 그래프 예제\n",
    "graph = {\n",
    "    'A': {'B': 3, 'C': 4, 'D': 7},\n",
    "    'B': {'C': 1, 'F': 5},\n",
    "    'C': {'F': 6, 'D': 2},\n",
    "    'D': {'E': 3, 'G': 6},\n",
    "    'E': {'G': 3, 'H': 4},\n",
    "    'F': {'E': 1, 'H': 8},\n",
    "    'G': {'H': 2},\n",
    "    'H': {}\n",
    "}\n",
    "\n",
    "start_vertex = 'A'\n",
    "distances = dijkstra(graph, start_vertex)\n",
    "\n",
    "print(\"최단 경로:\")\n",
    "for vertex, distance in distances.items():\n",
    "    print(f\"정점 {vertex}: 최단 거리 = {distance}\")\n"
   ]
  },
  {
   "cell_type": "code",
   "execution_count": null,
   "metadata": {},
   "outputs": [],
   "source": [
    "a=[1,2,3]\n",
    "b=[4,5,6]\n",
    "c=[]\n",
    "c.extend(a)\n",
    "c.extend(b)\n",
    "print(c)"
   ]
  },
  {
   "cell_type": "code",
   "execution_count": null,
   "metadata": {},
   "outputs": [],
   "source": [
    "a='6'\n",
    "a*3"
   ]
  },
  {
   "cell_type": "code",
   "execution_count": null,
   "metadata": {},
   "outputs": [],
   "source": [
    "num=1994\n",
    "int_roman={\n",
    "    1:'I',\n",
    "    5:'V',\n",
    "    10:'X',\n",
    "    50:'L',\n",
    "    100:'C',\n",
    "    500:'D',\n",
    "    1000:'M'\n",
    "}\n",
    "num=str(num)\n",
    "length=len(num)\n",
    "answer=''\n",
    "for s in num:\n",
    "    if 0<int(s)<4:\n",
    "        answer += int(s)*int_roman[(10**(length-1))]\n",
    "    elif int(s)==4:\n",
    "        answer += (int_roman[(10**(length-1))] + int_roman[5*(10**(length-1))])\n",
    "    elif 4<int(s)<9: # 5,6,7,8\n",
    "        answer += (int_roman[5*(10**(length-1))]+(int(s)-5)*int_roman[(10**(length-1))])\n",
    "    elif int(s)==9:\n",
    "        answer += (int_roman[(10**(length-1))]+int_roman[(10**(length))])\n",
    "    length -= 1\n",
    "print(answer)"
   ]
  },
  {
   "cell_type": "code",
   "execution_count": null,
   "metadata": {},
   "outputs": [],
   "source": [
    "graph=[\n",
    "    [1,1,1,1,0,0,0,0],\n",
    "    [1,1,1,1,0,0,0,0],\n",
    "    [1,1,1,1,1,1,1,1],\n",
    "    [1,1,1,1,1,1,1,1],\n",
    "    [1,1,1,1,0,0,0,0],\n",
    "    [1,1,1,1,0,0,0,0],\n",
    "    [1,1,1,1,0,0,0,0],\n",
    "    [1,1,1,1,0,0,0,0]\n",
    "]\n",
    "locates=[\n",
    "    [[0,0],[len(graph)//2,len(graph)//2]],\n",
    "    [[0,len(graph)],[len(graph)//2,len(graph)]],\n",
    "    [[len(graph)//2,0],[len(graph),len(graph)//2]],\n",
    "    [[len(graph)//2,len(graph)//2],[len(graph),len(graph)]]\n",
    "    ]\n",
    "quad_graph=[]\n",
    "for locate in locates:\n",
    "    start_row = locate[0][0]\n",
    "    start_col = locate[0][1]\n",
    "    end_row = locate[1][0]\n",
    "    end_col = locate[1][1]\n",
    "    temp_graph=[]\n",
    "    for row in range(len(graph)):\n",
    "        for col in range(len(graph)):\n",
    "            if (start_row <= row < end_row) and (start_col <= col < end_col):\n",
    "                temp_graph.append(graph[row][col])\n",
    "# 이건너무짜치는데요"
   ]
  },
  {
   "cell_type": "code",
   "execution_count": null,
   "metadata": {},
   "outputs": [],
   "source": [
    "graph=[\n",
    "    [1,1,1,1,0,0,0,0],\n",
    "    [1,1,1,1,0,0,0,0],\n",
    "    [1,1,1,1,1,1,1,1],\n",
    "    [1,1,1,1,1,1,1,1],\n",
    "    [1,1,1,1,0,0,0,0],\n",
    "    [1,1,1,1,0,0,0,0],\n",
    "    [1,1,1,1,0,0,0,0],\n",
    "    [1,1,1,1,0,0,0,0]\n",
    "]\n",
    "\n",
    "t_graph = graph[:len(graph)//2]\n",
    "for t in t_graph:\n",
    "    print(t[:len(t_graph)])\n",
    "    print(t[len(t_graph):])\n",
    "bt_graph = graph[len(graph)//2:]"
   ]
  },
  {
   "cell_type": "code",
   "execution_count": null,
   "metadata": {},
   "outputs": [],
   "source": [
    "def divide_matrix(matrix):\n",
    "    # 행렬의 크기를 구합니다\n",
    "    n = len(matrix)//2 # 2^n x 2^n 행렬이므로 2로 나누어 각 4분면의 크기를 구함\n",
    "    \n",
    "    # 4분면으로 나누기\n",
    "    top_left = matrix[:n, :n]       # 좌상단\n",
    "    top_right = matrix[:n, n:]      # 우상단\n",
    "    bottom_left = matrix[n:, :n]    # 좌하단\n",
    "    bottom_right = matrix[n:, n:]   # 우하단\n",
    "    \n",
    "    return top_left, top_right, bottom_left, bottom_right\n",
    "graph=[\n",
    "    [1,1,1,1,0,0,0,0],\n",
    "    [1,1,1,1,0,0,0,0],\n",
    "    [1,1,1,1,1,1,1,1],\n",
    "    [1,1,1,1,1,1,1,1],\n",
    "    [1,1,1,1,0,0,0,0],\n",
    "    [1,1,1,1,0,0,0,0],\n",
    "    [1,1,1,1,0,0,0,0],\n",
    "    [1,1,1,1,0,0,0,0]\n",
    "]\n",
    "for matrix in divide_matrix(graph):\n",
    "    print(matrix)"
   ]
  },
  {
   "cell_type": "code",
   "execution_count": null,
   "metadata": {},
   "outputs": [],
   "source": [
    "graph=[\n",
    "    [1,1,1,1,0,0,0,0],\n",
    "    [1,1,1,1,0,0,0,0],\n",
    "    [1,1,1,1,1,1,1,1],\n",
    "    [1,1,1,1,1,1,1,1],\n",
    "    [1,1,1,1,0,0,0,0],\n",
    "    [1,1,1,1,0,0,0,0],\n",
    "    [1,1,1,1,0,0,0,0],\n",
    "    [1,1,1,1,0,0,0,0]\n",
    "]\n",
    "\n",
    "graph[:2,:2]"
   ]
  },
  {
   "cell_type": "code",
   "execution_count": null,
   "metadata": {},
   "outputs": [],
   "source": [
    "import nest_asyncio\n",
    "import asyncio\n",
    "\n",
    "# 이벤트 루프 중첩을 허용\n",
    "nest_asyncio.apply()\n",
    "\n",
    "# 기존 코드\n",
    "async def task1():\n",
    "    print(\"Task 1 started\")\n",
    "    await asyncio.sleep(2)\n",
    "    print(\"Task 1 finished\")\n",
    "\n",
    "async def task2():\n",
    "    print(\"Task 2 started\")\n",
    "    await asyncio.sleep(1)\n",
    "    print(\"Task 2 finished\")\n",
    "\n",
    "async def main():\n",
    "    await asyncio.gather(task1(), task2())\n",
    "\n",
    "# Jupyter Notebook에서도 asyncio.run() 사용 가능\n",
    "asyncio.run(main())\n"
   ]
  },
  {
   "cell_type": "code",
   "execution_count": null,
   "metadata": {},
   "outputs": [],
   "source": [
    "n = int(input())  # 삼각형의 크기 (높이)\n",
    "triangle = []\n",
    "\n",
    "# 삼각형 입력 받기\n",
    "for _ in range(n):\n",
    "    triangle.append(list(map(int, input().split())))\n",
    "\n",
    "# DP 테이블 초기화 (삼각형과 같은 크기)\n",
    "dp = [[0] * len(triangle[i]) for i in range(n)]\n",
    "\n",
    "# DP의 첫 번째 값은 삼각형의 꼭대기 값\n",
    "dp[0][0] = triangle[0][0]\n",
    "\n",
    "# DP 테이블 채우기\n",
    "for i in range(1, n):\n",
    "    for j in range(len(triangle[i])):\n",
    "        # 왼쪽 대각선 위에서 올 수 있는 값\n",
    "        left_up = dp[i-1][j-1] if j-1 >= 0 else float('-inf')\n",
    "        \n",
    "        # 바로 위에서 올 수 있는 값\n",
    "        mid_up = dp[i-1][j] if j < len(triangle[i-1]) else float('-inf')\n",
    "        \n",
    "        # 오른쪽 대각선 위에서 올 수 있는 값\n",
    "        right_up = dp[i-1][j+1] if j+1 < len(triangle[i-1]) else float('-inf')\n",
    "\n",
    "        # 가능한 값 중 최댓값을 선택하고 현재 값과 더함\n",
    "        dp[i][j] = triangle[i][j] + max(left_up, mid_up, right_up)\n",
    "\n",
    "# 마지막 줄에서 최대값을 찾음\n",
    "for i in dp:\n",
    "    print(i)\n"
   ]
  },
  {
   "cell_type": "code",
   "execution_count": null,
   "metadata": {},
   "outputs": [],
   "source": [
    "a=[1,2,3,4,5]\n",
    "import heapq\n",
    "\n",
    "heapq.heapify(a)\n",
    "print(heapq.heappop(a))"
   ]
  },
  {
   "cell_type": "code",
   "execution_count": null,
   "metadata": {},
   "outputs": [],
   "source": [
    "for i in range(10):\n",
    "    print(i)\n",
    "    i= 20\n",
    "    print(i)"
   ]
  },
  {
   "cell_type": "code",
   "execution_count": 1,
   "metadata": {},
   "outputs": [
    {
     "name": "stdout",
     "output_type": "stream",
     "text": [
      "5\n",
      "4\n",
      "3\n",
      "2\n",
      "1\n"
     ]
    }
   ],
   "source": [
    "a=[1,2,3,4,5]\n",
    "for i in range(len(a)-1,-1,-1):\n",
    "    print(a[i])"
   ]
  }
 ],
 "metadata": {
  "kernelspec": {
   "display_name": "Python 3",
   "language": "python",
   "name": "python3"
  },
  "language_info": {
   "codemirror_mode": {
    "name": "ipython",
    "version": 3
   },
   "file_extension": ".py",
   "mimetype": "text/x-python",
   "name": "python",
   "nbconvert_exporter": "python",
   "pygments_lexer": "ipython3",
   "version": "3.11.9"
  }
 },
 "nbformat": 4,
 "nbformat_minor": 2
}
