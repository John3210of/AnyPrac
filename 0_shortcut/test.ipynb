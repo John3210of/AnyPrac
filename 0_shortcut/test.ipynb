{
 "cells": [
  {
   "cell_type": "code",
   "execution_count": null,
   "metadata": {},
   "outputs": [],
   "source": [
    "from datetime import datetime, timedelta\n",
    "\n",
    "# Start date is the first day of 2023\n",
    "start_date = datetime(2023, 1, 1)\n",
    "\n",
    "# End date is the last day of 2023\n",
    "end_date = datetime(2023, 12, 31)\n",
    "\n",
    "# Initialize the current date to start date\n",
    "current_date = start_date\n",
    "\n",
    "# Loop through the year\n",
    "while current_date <= end_date:\n",
    "    # Determine if the current day is a weekend\n",
    "    is_weekend = \"Weekend\" if current_date.weekday() >= 5 else \"Weekday\"\n",
    "    \n",
    "    # Print current date, the weekday name, and whether it's a weekend\n",
    "    print(f\"{current_date.strftime('%Y-%m-%d')} - {current_date.strftime('%A')} - {is_weekend}\")\n",
    "    \n",
    "    current_date += timedelta(days=1)  # Move to the next day\n"
   ]
  },
  {
   "cell_type": "code",
   "execution_count": 6,
   "metadata": {},
   "outputs": [
    {
     "name": "stdout",
     "output_type": "stream",
     "text": [
      "None\n",
      "[2, 4, 3, 8, 5, 6, 7, 100, 9, 10]\n"
     ]
    }
   ],
   "source": [
    "import heapq\n",
    "lst=[100,2,3,4,5,6,7,8,9,10]\n",
    "print(heapq.heapify(lst))\n",
    "print(lst)"
   ]
  },
  {
   "cell_type": "code",
   "execution_count": null,
   "metadata": {},
   "outputs": [],
   "source": [
    "import heapq\n",
    "\n",
    "def solution(jobs):\n",
    "    answer, now, i = 0, 0, 0\n",
    "    start = -1\n",
    "    heap = []\n",
    "    # [[0, 3], [1, 9], [2, 6]]\n",
    "    while i < len(jobs):  # 현재 시점에서 처리할 수 있는 작업을 heap에 저장\n",
    "        for j in jobs:\n",
    "            if start < j[0] <= now:\n",
    "                heapq.heappush(heap, [j[1], j[0]])\n",
    "        if len(heap) > 0:  # 처리할 작업이 있는 경우\n",
    "            cur = heapq.heappop(heap)\n",
    "            start = now\n",
    "            now += cur[0]\n",
    "            answer += now - cur[1]  # 작업 요청시간부터 종료시간까지의 시간 계산\n",
    "            i += 1\n",
    "        else:  # 처리할 작업이 없는 경우 다음 시간을 넘어감\n",
    "            now += 1\n",
    "\n",
    "    return answer // len(jobs)"
   ]
  },
  {
   "cell_type": "code",
   "execution_count": 1,
   "metadata": {},
   "outputs": [
    {
     "name": "stdout",
     "output_type": "stream",
     "text": [
      "[4, 5, 6, 7, 8, 9, 10]\n",
      "[1, 2, 3]\n"
     ]
    }
   ],
   "source": [
    "a=[1,2,3,4,5,6,7,8,9,10]\n",
    "b=a[:3]\n",
    "a=a[3:]\n",
    "print(a)\n",
    "print(b)"
   ]
  },
  {
   "cell_type": "code",
   "execution_count": 2,
   "metadata": {},
   "outputs": [
    {
     "data": {
      "text/plain": [
       "[]"
      ]
     },
     "execution_count": 2,
     "metadata": {},
     "output_type": "execute_result"
    }
   ],
   "source": [
    "lst=[3,4,5]\n",
    "lst[3:]\n"
   ]
  },
  {
   "cell_type": "code",
   "execution_count": null,
   "metadata": {},
   "outputs": [],
   "source": []
  }
 ],
 "metadata": {
  "kernelspec": {
   "display_name": "Python 3",
   "language": "python",
   "name": "python3"
  },
  "language_info": {
   "codemirror_mode": {
    "name": "ipython",
    "version": 3
   },
   "file_extension": ".py",
   "mimetype": "text/x-python",
   "name": "python",
   "nbconvert_exporter": "python",
   "pygments_lexer": "ipython3",
   "version": "3.10.10"
  }
 },
 "nbformat": 4,
 "nbformat_minor": 2
}
