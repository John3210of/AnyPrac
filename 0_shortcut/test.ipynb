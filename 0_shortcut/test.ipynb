{
 "cells": [
  {
   "cell_type": "code",
   "execution_count": null,
   "metadata": {},
   "outputs": [],
   "source": [
    "round(3.5)"
   ]
  },
  {
   "cell_type": "code",
   "execution_count": null,
   "metadata": {},
   "outputs": [],
   "source": [
    "round(-3.2)\n"
   ]
  },
  {
   "cell_type": "code",
   "execution_count": null,
   "metadata": {},
   "outputs": [],
   "source": [
    "import math\n",
    "math.ceil(3.5)"
   ]
  },
  {
   "cell_type": "code",
   "execution_count": null,
   "metadata": {},
   "outputs": [],
   "source": [
    "dict1 = {'a': 10, 'b': 20, 'd': 30}\n",
    "dict2 = {'a': 5, 'b': 20, 'd': 40}\n",
    "\n",
    "result = {key: dict1[key] - dict2[key] for key in dict1}\n",
    "result"
   ]
  },
  {
   "cell_type": "code",
   "execution_count": null,
   "metadata": {},
   "outputs": [],
   "source": [
    "from itertools import permutations\n",
    "\n",
    "def generate_all_permutations(s):\n",
    "    # 문자열 s의 모든 순열을 생성하여 리스트로 반환\n",
    "    return [''.join(permutation) for r in range(1, len(s) + 1) for permutation in permutations(s, r)]\n",
    "\n",
    "# 예시\n",
    "s = \"abc\"\n",
    "all_permutations = generate_all_permutations(s)\n",
    "print(all_permutations)\n"
   ]
  },
  {
   "cell_type": "code",
   "execution_count": null,
   "metadata": {},
   "outputs": [],
   "source": [
    "from datetime import datetime, timedelta\n",
    "\n",
    "# Start date is the first day of 2023\n",
    "start_date = datetime(2023, 1, 1)\n",
    "\n",
    "# End date is the last day of 2023\n",
    "end_date = datetime(2023, 12, 31)\n",
    "\n",
    "# Initialize the current date to start date\n",
    "current_date = start_date\n",
    "\n",
    "# Loop through the year\n",
    "while current_date <= end_date:\n",
    "    # Determine if the current day is a weekend\n",
    "    is_weekend = \"Weekend\" if current_date.weekday() >= 5 else \"Weekday\"\n",
    "    \n",
    "    # Print current date, the weekday name, and whether it's a weekend\n",
    "    print(f\"{current_date.strftime('%Y-%m-%d')} - {current_date.strftime('%A')} - {is_weekend}\")\n",
    "    \n",
    "    current_date += timedelta(days=1)  # Move to the next day\n"
   ]
  },
  {
   "cell_type": "code",
   "execution_count": 2,
   "metadata": {},
   "outputs": [
    {
     "data": {
      "text/plain": [
       "range(0, 20, 2)"
      ]
     },
     "execution_count": 2,
     "metadata": {},
     "output_type": "execute_result"
    }
   ],
   "source": [
    "r = range(0, 20, 2)\n",
    "r"
   ]
  },
  {
   "cell_type": "code",
   "execution_count": 4,
   "metadata": {},
   "outputs": [
    {
     "data": {
      "text/plain": [
       "[0, 1, 2, 3, 4, 5, 6, 7, 8, 9]"
      ]
     },
     "execution_count": 4,
     "metadata": {},
     "output_type": "execute_result"
    }
   ],
   "source": [
    "a= [x for x in range(10)]\n",
    "a"
   ]
  },
  {
   "cell_type": "code",
   "execution_count": 19,
   "metadata": {},
   "outputs": [
    {
     "name": "stdout",
     "output_type": "stream",
     "text": [
      "[0, 400, 2, 3, 4, 5, 6, 7, 8, 9]\n",
      "[0, 100, 2, 3, 4, 5, 6, 7, 8, 9]\n"
     ]
    }
   ],
   "source": [
    "b=a[:]\n",
    "a[1]=400\n",
    "b[1]=100\n",
    "print(a[:1000])\n",
    "print(b)"
   ]
  },
  {
   "cell_type": "code",
   "execution_count": 11,
   "metadata": {},
   "outputs": [
    {
     "data": {
      "text/plain": [
       "[0, 1, 2, 3, 4, 5, 6, 7, 8, 9]"
      ]
     },
     "execution_count": 11,
     "metadata": {},
     "output_type": "execute_result"
    }
   ],
   "source": [
    "a"
   ]
  },
  {
   "cell_type": "code",
   "execution_count": null,
   "metadata": {},
   "outputs": [],
   "source": []
  }
 ],
 "metadata": {
  "kernelspec": {
   "display_name": "Python 3",
   "language": "python",
   "name": "python3"
  },
  "language_info": {
   "codemirror_mode": {
    "name": "ipython",
    "version": 3
   },
   "file_extension": ".py",
   "mimetype": "text/x-python",
   "name": "python",
   "nbconvert_exporter": "python",
   "pygments_lexer": "ipython3",
   "version": "3.10.10"
  }
 },
 "nbformat": 4,
 "nbformat_minor": 2
}
