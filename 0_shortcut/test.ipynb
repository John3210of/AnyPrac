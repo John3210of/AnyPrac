{
 "cells": [
  {
   "cell_type": "code",
   "execution_count": null,
   "metadata": {},
   "outputs": [],
   "source": [
    "from datetime import datetime, timedelta\n",
    "\n",
    "# Start date is the first day of 2023\n",
    "start_date = datetime(2023, 1, 1)\n",
    "\n",
    "# End date is the last day of 2023\n",
    "end_date = datetime(2023, 12, 31)\n",
    "\n",
    "# Initialize the current date to start date\n",
    "current_date = start_date\n",
    "\n",
    "# Loop through the year\n",
    "while current_date <= end_date:\n",
    "    # Determine if the current day is a weekend\n",
    "    is_weekend = \"Weekend\" if current_date.weekday() >= 5 else \"Weekday\"\n",
    "    \n",
    "    # Print current date, the weekday name, and whether it's a weekend\n",
    "    print(f\"{current_date.strftime('%Y-%m-%d')} - {current_date.strftime('%A')} - {is_weekend}\")\n",
    "    \n",
    "    current_date += timedelta(days=1)  # Move to the next day\n"
   ]
  },
  {
   "cell_type": "code",
   "execution_count": 6,
   "metadata": {},
   "outputs": [
    {
     "name": "stdout",
     "output_type": "stream",
     "text": [
      "None\n",
      "[2, 4, 3, 8, 5, 6, 7, 100, 9, 10]\n"
     ]
    }
   ],
   "source": [
    "import heapq\n",
    "lst=[100,2,3,4,5,6,7,8,9,10]\n",
    "print(heapq.heapify(lst))\n",
    "print(lst)"
   ]
  },
  {
   "cell_type": "code",
   "execution_count": null,
   "metadata": {},
   "outputs": [],
   "source": [
    "import heapq\n",
    "\n",
    "def solution(jobs):\n",
    "    answer, now, i = 0, 0, 0\n",
    "    start = -1\n",
    "    heap = []\n",
    "    # [[0, 3], [1, 9], [2, 6]]\n",
    "    while i < len(jobs):  # 현재 시점에서 처리할 수 있는 작업을 heap에 저장\n",
    "        for j in jobs:\n",
    "            if start < j[0] <= now:\n",
    "                heapq.heappush(heap, [j[1], j[0]])\n",
    "        if len(heap) > 0:  # 처리할 작업이 있는 경우\n",
    "            cur = heapq.heappop(heap)\n",
    "            start = now\n",
    "            now += cur[0]\n",
    "            answer += now - cur[1]  # 작업 요청시간부터 종료시간까지의 시간 계산\n",
    "            i += 1\n",
    "        else:  # 처리할 작업이 없는 경우 다음 시간을 넘어감\n",
    "            now += 1\n",
    "\n",
    "    return answer // len(jobs)"
   ]
  },
  {
   "cell_type": "code",
   "execution_count": 1,
   "metadata": {},
   "outputs": [
    {
     "name": "stdout",
     "output_type": "stream",
     "text": [
      "[4, 5, 6, 7, 8, 9, 10]\n",
      "[1, 2, 3]\n"
     ]
    }
   ],
   "source": [
    "a=[1,2,3,4,5,6,7,8,9,10]\n",
    "b=a[:3]\n",
    "a=a[3:]\n",
    "print(a)\n",
    "print(b)"
   ]
  },
  {
   "cell_type": "code",
   "execution_count": 1,
   "metadata": {},
   "outputs": [
    {
     "name": "stdout",
     "output_type": "stream",
     "text": [
      "최단 경로:\n",
      "정점 A: 최단 거리 = 0\n",
      "정점 B: 최단 거리 = 3\n",
      "정점 C: 최단 거리 = 4\n",
      "정점 D: 최단 거리 = 6\n",
      "정점 E: 최단 거리 = 9\n",
      "정점 F: 최단 거리 = 8\n",
      "정점 G: 최단 거리 = 12\n",
      "정점 H: 최단 거리 = 13\n"
     ]
    }
   ],
   "source": [
    "import heapq\n",
    "\n",
    "def dijkstra(graph, start):\n",
    "    # 시작 정점에서 다른 정점까지의 거리를 저장하는 딕셔너리\n",
    "    distances = {vertex: float('infinity') for vertex in graph}\n",
    "    distances[start] = 0\n",
    "    \n",
    "    # 시작 정점부터의 거리를 기준으로 우선순위 큐를 유지\n",
    "    priority_queue = [(0, start)]\n",
    "    \n",
    "    while priority_queue:\n",
    "        current_distance, current_vertex = heapq.heappop(priority_queue)\n",
    "        \n",
    "        # 현재 정점까지의 거리가 더 길면 스킵\n",
    "        if current_distance > distances[current_vertex]:\n",
    "            continue\n",
    "        \n",
    "        # 현재 정점과 연결된 정점들을 순회\n",
    "        for neighbor, weight in graph[current_vertex].items():\n",
    "            distance = current_distance + weight\n",
    "            # 현재 정점을 통해 이웃에 도달하는 거리가 더 짧은 경우 업데이트\n",
    "            if distance < distances[neighbor]:\n",
    "                distances[neighbor] = distance\n",
    "                heapq.heappush(priority_queue, (distance, neighbor))\n",
    "    \n",
    "    return distances\n",
    "\n",
    "# 그래프 예제\n",
    "graph = {\n",
    "    'A': {'B': 3, 'C': 4, 'D': 7},\n",
    "    'B': {'C': 1, 'F': 5},\n",
    "    'C': {'F': 6, 'D': 2},\n",
    "    'D': {'E': 3, 'G': 6},\n",
    "    'E': {'G': 3, 'H': 4},\n",
    "    'F': {'E': 1, 'H': 8},\n",
    "    'G': {'H': 2},\n",
    "    'H': {}\n",
    "}\n",
    "\n",
    "start_vertex = 'A'\n",
    "distances = dijkstra(graph, start_vertex)\n",
    "\n",
    "print(\"최단 경로:\")\n",
    "for vertex, distance in distances.items():\n",
    "    print(f\"정점 {vertex}: 최단 거리 = {distance}\")\n"
   ]
  },
  {
   "cell_type": "code",
   "execution_count": 2,
   "metadata": {},
   "outputs": [
    {
     "name": "stdout",
     "output_type": "stream",
     "text": [
      "[1, 2, 3, 4, 5, 6]\n"
     ]
    }
   ],
   "source": [
    "a=[1,2,3]\n",
    "b=[4,5,6]\n",
    "c=[]\n",
    "c.extend(a)\n",
    "c.extend(b)\n",
    "print(c)"
   ]
  },
  {
   "cell_type": "code",
   "execution_count": null,
   "metadata": {},
   "outputs": [],
   "source": []
  }
 ],
 "metadata": {
  "kernelspec": {
   "display_name": "Python 3",
   "language": "python",
   "name": "python3"
  },
  "language_info": {
   "codemirror_mode": {
    "name": "ipython",
    "version": 3
   },
   "file_extension": ".py",
   "mimetype": "text/x-python",
   "name": "python",
   "nbconvert_exporter": "python",
   "pygments_lexer": "ipython3",
   "version": "3.10.10"
  }
 },
 "nbformat": 4,
 "nbformat_minor": 2
}
