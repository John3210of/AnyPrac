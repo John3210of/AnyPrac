{
 "cells": [
  {
   "cell_type": "code",
   "execution_count": null,
   "metadata": {},
   "outputs": [],
   "source": [
    "import sys\n",
    "sys.setrecursionlimit(100000)\n",
    "input = sys.stdin.readline\n",
    "\n",
    "def solution():\n",
    "    return 0\n",
    "\n",
    "if __name__ == \"__main__\":\n",
    "    n = int(input())\n",
    "    # 한줄에 여러개 입력받기\n",
    "    r, c, w = map(int, input().split())\n",
    "    # 공백으로 리스트 입력\n",
    "    lst=list(map(int, input().split()))\n",
    "    # 연속문자 리스트화 ASDF > A,S,D,F\n",
    "    graph=[]\n",
    "    for _ in range(n):\n",
    "        graph.append(list(input().strip()))\n",
    "    # 리스트 컴프리헨션을 사용하여 2차원배열의 visited만들기\n",
    "    visited = [[0 for _ in range(len(row))] for row in graph]"
   ]
  },
  {
   "cell_type": "code",
   "execution_count": null,
   "metadata": {},
   "outputs": [],
   "source": []
  }
 ],
 "metadata": {
  "language_info": {
   "name": "python"
  }
 },
 "nbformat": 4,
 "nbformat_minor": 2
}
