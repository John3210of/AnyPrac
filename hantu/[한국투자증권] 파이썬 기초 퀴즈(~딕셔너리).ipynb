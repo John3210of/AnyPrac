{
 "cells": [
  {
   "cell_type": "markdown",
   "id": "11d85f0f",
   "metadata": {},
   "source": [
    "# 퀴즈 사용법\n",
    "- 노트북 파일을 쭉 내려보면 *\"Q.\"* 라고 써 있는 글이 문제입니다!\n",
    "- 문제를 쭉 읽어보고, 문제 하단의 *\"예상 출력\"* 이라고 써 있는 것처럼 출력시켜주세요!\n",
    "- 문제 블록을 클릭하고, +버튼을 눌러 새로운 블럭을 생성하고, 아래에 퀴즈를 풀어보세요!"
   ]
  },
  {
   "cell_type": "code",
   "execution_count": 11,
   "id": "6445026b",
   "metadata": {},
   "outputs": [
    {
     "data": {
      "text/plain": [
       "'\\n1. 변수 선언\\n2. 변수 출력\\n2. 변수 연산\\n3. 변수 재할당\\n'"
      ]
     },
     "execution_count": 11,
     "metadata": {},
     "output_type": "execute_result"
    }
   ],
   "source": [
    "# 변수\n",
    "'''\n",
    "1. 변수 선언\n",
    "2. 변수 출력\n",
    "2. 변수 연산\n",
    "3. 변수 재할당\n",
    "'''"
   ]
  },
  {
   "cell_type": "markdown",
   "id": "27b4e19c",
   "metadata": {},
   "source": [
    "### Q. 변수 선언\n",
    "- 세 사람 A, B, C가 있다. \n",
    "- A, B, C의 나이가 각각 20, 30, 40 이라고 할 때, \n",
    "- 각 나이 값을 a, b, c로 저장하고 출력하시오  \n",
    "---\n",
    "예상 출력 : 20, 30, 40\n",
    "\n"
   ]
  },
  {
   "cell_type": "markdown",
   "id": "a23955fb",
   "metadata": {},
   "source": [
    "# Q. 변수 재할당\n",
    "- 숫자 값 99를 담는 변수 num을 만들어주세요\n",
    "- num 값에 1을 뺀 값을 다시 변수 num에 담아주세요\n",
    "- num 값을 출력하세요\n",
    "---\n",
    "예상 출력 : 98"
   ]
  },
  {
   "cell_type": "code",
   "execution_count": 9,
   "id": "e915bfdc",
   "metadata": {},
   "outputs": [
    {
     "data": {
      "text/plain": [
       "'\\n1. 숫자 자료형 선언과 출력(값, 타입)\\n2. 숫자 자료형 연산\\n3. 숫자 자료형 타입\\n4. 문자 -> 숫자 자료형 변환\\n'"
      ]
     },
     "execution_count": 9,
     "metadata": {},
     "output_type": "execute_result"
    }
   ],
   "source": [
    "# 숫자 자료형\n",
    "'''\n",
    "1. 숫자 자료형 선언과 출력(값, 타입)\n",
    "2. 숫자 자료형 연산\n",
    "3. 숫자 자료형 타입\n",
    "4. 문자 -> 숫자 자료형 변환\n",
    "'''"
   ]
  },
  {
   "cell_type": "markdown",
   "id": "4dd93060",
   "metadata": {},
   "source": [
    "### Q. 숫자 자료형 선언과 출력\n",
    "- 숫자 값 10이 들어간 변수 num1을 만들어주세요\n",
    "- num1의 값과 자료형을 출력해주세요\n",
    "---\n",
    "예상 출력 : 10  <class : 'int'>"
   ]
  },
  {
   "cell_type": "markdown",
   "id": "0d756b3e",
   "metadata": {},
   "source": [
    "### Q. 숫자 자료형의 연산\n",
    "- 숫자 값 10, 3이 들어간 변수 num1, num2를 만들어주세요\n",
    "- num1과 num2를 더한 값을 출력해주세요\n",
    "- num1과 num2를 뺀 값을 출력해주세요\n",
    "- num1과 num2를 곱한 값을 출력해주세요\n",
    "- num1과 num2를 나눈 값을 출력해주세요\n",
    "---\n",
    "예상 출력 :   \n",
    "- 13\n",
    "- 7\n",
    "- 30\n",
    "- 3.3333  "
   ]
  },
  {
   "cell_type": "markdown",
   "id": "4fbbc3a6",
   "metadata": {},
   "source": [
    "### Q. 문자 -> 숫자 자료형 변환\n",
    "- 문자 5를 담은 변수 num1을 만들어주세요\n",
    "- int()를 사용하여 num1을 숫자로 변환해주세요\n",
    "- 변수 num1의 값과 타입을 출력해주세요\n",
    "---\n",
    "예상 출력 : 5 <class : 'int'>"
   ]
  },
  {
   "cell_type": "code",
   "execution_count": 17,
   "id": "6b5f97d6",
   "metadata": {},
   "outputs": [
    {
     "data": {
      "text/plain": [
       "'\\n1. 참/거짓 자료형 선언과 출력(값, 타입)\\n2. 조건으로 참 거짓 값 출력과 변수로 할당하기\\n3. 비교연산자 사용하기\\n'"
      ]
     },
     "execution_count": 17,
     "metadata": {},
     "output_type": "execute_result"
    }
   ],
   "source": [
    "# 참/거짓 자료형\n",
    "'''\n",
    "1. 참/거짓 자료형 선언과 출력(값, 타입)\n",
    "2. 조건으로 참 거짓 값 출력과 변수로 할당하기\n",
    "3. 비교연산자 사용하기\n",
    "'''"
   ]
  },
  {
   "cell_type": "markdown",
   "id": "a58b6bbe",
   "metadata": {},
   "source": [
    "### Q. 참/거짓 자료형 선언과 출력\n",
    "- True, False 값을 변수로 선언해주세요\n",
    "- 변수의 값과 타입을 함께 출력해주세요\n",
    "---\n",
    "예상 출력 : \n",
    "True <class : bool>\n",
    "False <class : bool>"
   ]
  },
  {
   "cell_type": "markdown",
   "id": "34f36cae",
   "metadata": {},
   "source": [
    "### Q. 조건으로 참 거짓 값 출력과 변수로 할당하기\n",
    "- 안경알은 두 개인가? 를 주제로 참/거짓을 구분하자\n",
    "- 안경알의 갯수를 담는 변수 glasses를 생성하고 2의 값을 넣어주세요\n",
    "- 변수 glasses, 숫자 2, 같다는 조건을 사용하는 비교연산자 ==를 사용해 조건을 만들어주세요\n",
    "- 위를 바탕으로 안경알이 두 개라는 조건을 변수에 담아서 값과 타입을 출력해주세요\n",
    "---\n",
    "예상 출력 : True <class : 'bool'>"
   ]
  },
  {
   "cell_type": "code",
   "execution_count": 8,
   "id": "1d12a8e0",
   "metadata": {},
   "outputs": [
    {
     "data": {
      "text/plain": [
       "'\\n1. 문자 자료형 선언과 출력\\n2. 문자 자료형 연결\\n3. 문자 자료형과 숫자 자료형의 연산\\n4. 숫자 -> 문자 자료형 변환\\n5. 문자의 길이 확인하기\\n6. 문자 인덱싱하기\\n7. 문자 슬라이싱하기\\n8. 문자 스플릿하기\\n'"
      ]
     },
     "execution_count": 8,
     "metadata": {},
     "output_type": "execute_result"
    }
   ],
   "source": [
    "# 문자 자료형\n",
    "'''\n",
    "1. 문자 자료형 선언과 출력(값, 타입)\n",
    "2. 문자 자료형 연결\n",
    "3. 문자 자료형과 숫자 자료형의 연산\n",
    "4. 숫자 -> 문자 자료형 변환\n",
    "5. 문자의 길이 확인하기\n",
    "6. 문자 인덱싱하기\n",
    "7. 문자 슬라이싱하기\n",
    "8. 문자 스플릿하기\n",
    "'''"
   ]
  },
  {
   "cell_type": "markdown",
   "id": "32c8b67b",
   "metadata": {},
   "source": [
    "### Q. 문자 자료형의 선언\n",
    "- 문자 값이 들어간 변수 char를 만들고 문자 값을 넣어보세요\n",
    "- 변수 char의 값과 타입을 출력해보세요\n",
    "---\n",
    "예상 출력 : 안녕하세요 <class : 'str'>"
   ]
  },
  {
   "cell_type": "markdown",
   "id": "46b34123",
   "metadata": {},
   "source": [
    "### Q. 문자 자료형의 연결\n",
    "- 문자 값 \"손목\", \"시계\"를 각각 나누어 변수 str1, str2 에 담아주세요\n",
    "- 두 변수 str1과 str2를 각각 더한 값을 새로운 변수 result로 담아주세요\n",
    "- result의 값과 타입을 출력해주세요\n",
    "---\n",
    "예상 출력 : 손목시계 <class : 'str'>"
   ]
  },
  {
   "cell_type": "markdown",
   "id": "29148fa9",
   "metadata": {},
   "source": [
    "### Q. 문자열 연산\n",
    "- 문자열 값 \"대한\", \"민국\", \"만세\" 를 각각 세 개의 변수로 따로 담는다.\n",
    "- 세 개의 변수와 임의의 숫자 값을 활용해 아래와 같은 값을 출력하시오\n",
    "- 대한민국만세만세만세\n",
    "---\n",
    "예상 출력 : 대한민국만세만세만세"
   ]
  },
  {
   "cell_type": "markdown",
   "id": "bb465e95",
   "metadata": {},
   "source": [
    "### Q. 숫자 -> 문자 자료형 변환\n",
    "- 숫자 값 55가 담긴 변수  num을 만들어주세요\n",
    "- num을 str()을 사용하여 문자열로 변환해주세요\n",
    "- 변환된 num의 값과 타입을 출력해주세요\n",
    "---\n",
    "예상 출력 : 55 <class : 'str'>"
   ]
  },
  {
   "cell_type": "markdown",
   "id": "b92f9245",
   "metadata": {},
   "source": [
    "### Q. 문자 인덱싱\n",
    "- 문자 값 \"안녕하세요!\" 를 변수 greeting에 담아주세요\n",
    "- 인덱싱을 사용하여 greeting의 2번째(컴퓨터숫자) 값을 출력하세요\n",
    "- 인덱싱을 사용하여 greeting의 마지막 값을 출력하세요\n",
    "---\n",
    "예상 출력:  \n",
    "- 하  \n",
    "- !  "
   ]
  },
  {
   "cell_type": "markdown",
   "id": "fad18178",
   "metadata": {},
   "source": [
    "### Q. 문자 슬라이싱\n",
    "- 문자 값 \"윙가르디움 레비오우사\" 를 변수 spell에 담아주세요\n",
    "- 슬라이싱을 사용하여 윙가르디움을 출력해주세요\n",
    "- 슬라이싱을 사용하여 레비오우사를 사용해주세요\n",
    "---\n",
    "예상 출력 : \n",
    "- 윙가르디움\n",
    "- 레비오우사"
   ]
  },
  {
   "cell_type": "markdown",
   "id": "452b4558",
   "metadata": {},
   "source": [
    "### Q. 문자 스플릿\n",
    "- 전화번호 +82)10-1234-5678 을 담아 변수 phone으로 저장하세요\n",
    "- phone에서 스플릿을 사용하여 )를 기준으로 나눈 목록을 split_list로 저장하세요\n",
    "- split_list에서 국가코드 +82 를 출력해주세요\n",
    "---\n",
    "예상 출력 : +82"
   ]
  },
  {
   "cell_type": "code",
   "execution_count": 18,
   "id": "0e1b6158",
   "metadata": {},
   "outputs": [
    {
     "data": {
      "text/plain": [
       "'\\n1. 리스트 자료형 선언과 출력(값, 타입)\\n2. 리스트 자료형 인덱싱\\n3. 리스트 자료형 슬라이싱\\n4. 리스트 자료형 값 추가하기\\n5. 리스트 자료형 값 정렬하기\\n'"
      ]
     },
     "execution_count": 18,
     "metadata": {},
     "output_type": "execute_result"
    }
   ],
   "source": [
    "# 리스트 자료형\n",
    "'''\n",
    "1. 리스트 자료형 선언과 출력(값, 타입)\n",
    "2. 리스트 자료형 인덱싱\n",
    "3. 리스트 자료형 슬라이싱\n",
    "4. 리스트 자료형 값 추가하기\n",
    "5. 리스트 자료형 값 정렬하기\n",
    "'''"
   ]
  },
  {
   "cell_type": "markdown",
   "id": "45eb78d4",
   "metadata": {},
   "source": [
    "### Q. 리스트 자료형 선언과 출력\n",
    "- 1부터 10까지의 숫자를 리스트로 담아 num_list에 저장해주세요\n",
    "- num_list의 값과 타입을 출력해주세요\n",
    "---\n",
    "예상 출력 : [1,2,3,4,5,6,7,8,9,10] <class : 'list'>"
   ]
  },
  {
   "cell_type": "markdown",
   "id": "57ac2501",
   "metadata": {},
   "source": [
    "### Q. 리스트 자료형 인덱싱\n",
    "- num_list의 3번째 값을 출력해주세요\n",
    "---\n",
    "예상 출력 : 4"
   ]
  },
  {
   "cell_type": "markdown",
   "id": "d0876c9d",
   "metadata": {},
   "source": [
    "### Q. 리스트 자료형 슬라이싱\n",
    "- num_list의 시작부터 5개의 목록으로 슬라이싱하여 출력해주세요\n",
    "- num_list의 7번째부터 끝까지 슬라이싱하여 출력해주세요\n",
    "---\n",
    "예상 출력 : \n",
    "- [1,2,3,4,5]\n",
    "- [8,9,10]"
   ]
  },
  {
   "cell_type": "markdown",
   "id": "84fc54fa",
   "metadata": {},
   "source": [
    "### Q. 리스트 자료형 값 추가하기\n",
    "- num_list에 11,12,13을 한 번씩 각각 추가해주세요\n",
    "- num_list를 출력해주세요\n",
    "---\n",
    "예상 출력 : \n",
    "[1,2,3,4,5,6,7,8,9,10,11,12,13]"
   ]
  },
  {
   "cell_type": "markdown",
   "id": "23c2b6cf",
   "metadata": {},
   "source": [
    "### Q. 리스트 자료형 값 정렬하기\n",
    "- [1,5,3,8] 값이 담긴 리스트 num_list를 새로 만들어주세요\n",
    "- sort()를 사용하여 num_list를 정렬해주세요\n",
    "- num_list를 출력해주세요\n",
    "---\n",
    "예상 출력 : [1,3,5,8]"
   ]
  },
  {
   "cell_type": "code",
   "execution_count": 24,
   "id": "08a99c3e",
   "metadata": {},
   "outputs": [
    {
     "data": {
      "text/plain": [
       "'\\n1. 딕셔너리 자료형 선언과 출력(값, 타입)\\n2. 딕셔너리 자료형 인덱싱\\n3. 딕셔너리 데이터를 변수로 선언하기\\n4. 딕셔너리 데이터의 밸류 변경하기\\n'"
      ]
     },
     "execution_count": 24,
     "metadata": {},
     "output_type": "execute_result"
    }
   ],
   "source": [
    "# 딕셔너리 자료형\n",
    "'''\n",
    "1. 딕셔너리 자료형 선언과 출력(값, 타입)\n",
    "2. 딕셔너리 자료형 인덱싱\n",
    "3. 딕셔너리 데이터를 변수로 선언하기\n",
    "4. 딕셔너리 데이터의 밸류 변경하기\n",
    "'''"
   ]
  },
  {
   "cell_type": "markdown",
   "id": "b12cd284",
   "metadata": {},
   "source": [
    "### Q. 딕셔너리 자료형 선언과 출력\n",
    "- 다음은 산타가 아이에게 줄 선물의 정보를 기입한 딕셔너리이다.\n",
    "- 딕셔너리 gift에 아이의 이름 child, 아이의 나이 age를 선언하여 만들어주세요\n",
    "- gift의 값과 타입을 출력해주세요\n",
    "---\n",
    "예상 출력 : {\"child\" : \"john\", \"age\" : 10}"
   ]
  },
  {
   "cell_type": "markdown",
   "id": "939da914",
   "metadata": {},
   "source": [
    "### Q. 딕셔너리 자료형 인덱싱\n",
    "- 산타가 아이에게 줄 정보를 까먹었다.\n",
    "- 딕셔너리 gift에서 아이의 이름을 출력해주세요\n",
    "- 딕셔너리 gift에서 아이의 나이를 출력해주세요\n",
    "---\n",
    "예상 출력:\n",
    "- john\n",
    "- 10"
   ]
  },
  {
   "cell_type": "markdown",
   "id": "6c9267b3",
   "metadata": {},
   "source": [
    "### Q. 딕셔너리 데이터를 변수로 선언하기\n",
    "- 사실 아이의 이름을 다른 곳에 사용하기 위해서 변수를 담아야 한다\n",
    "- child_name 이라는 변수에 딕셔너리 gift에서 아이의 이름을 가져와 만들어주세요\n",
    "- child_name을 출력해주세요\n",
    "---\n",
    "예상 출력 : john"
   ]
  },
  {
   "cell_type": "markdown",
   "id": "188847a6",
   "metadata": {},
   "source": [
    "### Q. 딕셔너리 데이터의 밸류 변경하기\n",
    "- 아뿔싸! 아이의 이름은 john이 아니라 josh였다..\n",
    "- 딕셔너리 gift에서 아이의 이름 값을 가져와 josh로 재할당 해주세요\n",
    "- 딕셔너리 gift를 출력해주세요\n",
    "---\n",
    "예상 출력 : {\"child\" : \"josh\", \"age\" : 10}"
   ]
  },
  {
   "cell_type": "markdown",
   "id": "01aa3980",
   "metadata": {},
   "source": [
    "### Q. 딕셔너리 데이터의 새로운 키-밸류 추가하기\n",
    "- 아이코! 아이가 원하는 선물을 기입하는 것을 잊었다.\n",
    "- 딕셔너리 gift에서 아이가 원하는 선물 \"닌텐도 스위치\"를 키 \"wish\"에 담습니다\n",
    "- 딕셔너리 gift를 출력해주세요\n",
    "---\n",
    "예상 출력 : {\"child\" : \"josh\", \"age\" : 10, \"wish\" : \"닌텐도 스위치\"}"
   ]
  },
  {
   "cell_type": "code",
   "execution_count": null,
   "id": "9805b22d",
   "metadata": {},
   "outputs": [],
   "source": []
  }
 ],
 "metadata": {
  "kernelspec": {
   "display_name": "Python 3 (ipykernel)",
   "language": "python",
   "name": "python3"
  },
  "language_info": {
   "codemirror_mode": {
    "name": "ipython",
    "version": 3
   },
   "file_extension": ".py",
   "mimetype": "text/x-python",
   "name": "python",
   "nbconvert_exporter": "python",
   "pygments_lexer": "ipython3",
   "version": "3.9.13"
  }
 },
 "nbformat": 4,
 "nbformat_minor": 5
}
